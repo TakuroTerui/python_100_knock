{
  "nbformat": 4,
  "nbformat_minor": 0,
  "metadata": {
    "colab": {
      "name": "chapter7.ipynb",
      "provenance": [],
      "authorship_tag": "ABX9TyPA3bZVxveg/X/xQ67Mfsw/"
    },
    "kernelspec": {
      "name": "python3",
      "display_name": "Python 3"
    },
    "language_info": {
      "name": "python"
    }
  },
  "cells": [
    {
      "cell_type": "code",
      "source": [
        "!pip install pulp\n",
        "!pip install ortoolpy"
      ],
      "metadata": {
        "colab": {
          "base_uri": "https://localhost:8080/"
        },
        "id": "uV3Q_5bo2__J",
        "outputId": "6f6651c6-b7e2-4d95-805e-b25fc54b988c"
      },
      "execution_count": 2,
      "outputs": [
        {
          "output_type": "stream",
          "name": "stdout",
          "text": [
            "Collecting pulp\n",
            "  Downloading PuLP-2.6.0-py3-none-any.whl (14.2 MB)\n",
            "\u001b[K     |████████████████████████████████| 14.2 MB 5.2 MB/s \n",
            "\u001b[?25hInstalling collected packages: pulp\n",
            "Successfully installed pulp-2.6.0\n",
            "Collecting ortoolpy\n",
            "  Downloading ortoolpy-0.2.38-py3-none-any.whl (24 kB)\n",
            "Requirement already satisfied: pandas<2.0.0,>=1.1.4 in /usr/local/lib/python3.7/dist-packages (from ortoolpy) (1.3.5)\n",
            "Requirement already satisfied: pulp<3.0.0,>=2.3.1 in /usr/local/lib/python3.7/dist-packages (from ortoolpy) (2.6.0)\n",
            "Requirement already satisfied: more-itertools<9.0.0,>=8.6.0 in /usr/local/lib/python3.7/dist-packages (from ortoolpy) (8.12.0)\n",
            "Requirement already satisfied: pytz>=2017.3 in /usr/local/lib/python3.7/dist-packages (from pandas<2.0.0,>=1.1.4->ortoolpy) (2018.9)\n",
            "Requirement already satisfied: numpy>=1.17.3 in /usr/local/lib/python3.7/dist-packages (from pandas<2.0.0,>=1.1.4->ortoolpy) (1.21.5)\n",
            "Requirement already satisfied: python-dateutil>=2.7.3 in /usr/local/lib/python3.7/dist-packages (from pandas<2.0.0,>=1.1.4->ortoolpy) (2.8.2)\n",
            "Requirement already satisfied: six>=1.5 in /usr/local/lib/python3.7/dist-packages (from python-dateutil>=2.7.3->pandas<2.0.0,>=1.1.4->ortoolpy) (1.15.0)\n",
            "Installing collected packages: ortoolpy\n",
            "Successfully installed ortoolpy-0.2.38\n"
          ]
        }
      ]
    },
    {
      "cell_type": "code",
      "execution_count": 8,
      "metadata": {
        "id": "W9zAgSzY2Dhe"
      },
      "outputs": [],
      "source": [
        "import numpy as np\n",
        "import pandas as pd\n",
        "from itertools import product\n",
        "from pulp import LpVariable, lpSum, value\n",
        "from ortoolpy  import model_min, addvars, addvals"
      ]
    },
    {
      "cell_type": "code",
      "source": [
        "# データ読み込み\n",
        "df_tc = pd.read_csv('trans_cost.csv', index_col='工場')\n",
        "df_demand = pd.read_csv('demand.csv')\n",
        "df_supply = pd.read_csv('supply.csv')\n",
        "\n",
        "# 初期設定\n",
        "np.random.seed(1)\n",
        "nw = len(df_tc.index)\n",
        "nf = len(df_tc.columns)\n",
        "pr = list(product(range(nw), range(nf)))\n",
        "\n",
        "# 数理モデル\n",
        "m1 = model_min()\n",
        "v1 = {(i, j):LpVariable('v%d_%d'%(i, j), lowBound=0) for i, j in pr}\n",
        "\n",
        "m1 += lpSum(df_tc.iloc[i][j] * v1[i, j] for i, j in pr)\n",
        "for i in range(nw):\n",
        "    m1 += lpSum(v1[i, j] for j in range(nf)) <= df_supply.iloc[0][i]\n",
        "for j in range(nf):\n",
        "    m1 += lpSum(v1[i, j] for i in range(nw)) >= df_demand.iloc[0][j]\n",
        "m1.solve()\n",
        "\n",
        "# 総輸送コスト計算\n",
        "df_tr_sol = df_tc.copy()\n",
        "total_cost = 0\n",
        "for k, x in v1.items():\n",
        "    i, j = k[0], k[1]\n",
        "    df_tr_sol.iloc[i][j] = value(x)\n",
        "    total_cost += df_tc.iloc[i][j] * value(x)\n",
        "\n",
        "print(df_tr_sol)\n",
        "# print('総輸送コスト:' * str(total_cost))"
      ],
      "metadata": {
        "colab": {
          "base_uri": "https://localhost:8080/"
        },
        "id": "9aq-RQPU2vvF",
        "outputId": "6b7c44bf-78e2-4ecc-c9ef-2a09246c8678"
      },
      "execution_count": 10,
      "outputs": [
        {
          "output_type": "stream",
          "name": "stdout",
          "text": [
            "    F1  F2  F3  F4\n",
            "工場                \n",
            "W1  28   7   0   0\n",
            "W2   0   0  31   5\n",
            "W3   0  22   0  20\n"
          ]
        }
      ]
    },
    {
      "cell_type": "code",
      "source": [
        "total_cost"
      ],
      "metadata": {
        "colab": {
          "base_uri": "https://localhost:8080/"
        },
        "id": "iRzpaLDq5j6r",
        "outputId": "3fd17acd-2dbc-493b-f4c9-d9f069647e23"
      },
      "execution_count": 12,
      "outputs": [
        {
          "output_type": "execute_result",
          "data": {
            "text/plain": [
              "1296.0"
            ]
          },
          "metadata": {},
          "execution_count": 12
        }
      ]
    },
    {
      "cell_type": "markdown",
      "source": [
        "### ノック62：最適輸送ルートをネットワークで確認しよう"
      ],
      "metadata": {
        "id": "H39r8cYVGq_m"
      }
    },
    {
      "cell_type": "code",
      "source": [
        "import matplotlib.pyplot as plt\n",
        "import networkx as nx"
      ],
      "metadata": {
        "id": "ijchknYkG8bE"
      },
      "execution_count": 13,
      "outputs": []
    },
    {
      "cell_type": "code",
      "source": [
        "# データ読み込み\n",
        "df_tr = df_tr_sol.copy()\n",
        "df_pos = pd.read_csv('trans_route_pos.csv')\n",
        "\n",
        "# グラフオブジェクトの作成\n",
        "G = nx.Graph()\n",
        "\n",
        "# 頂点の設定\n",
        "for i in range(len(df_pos.columns)):\n",
        "    G.add_node(df_pos.columns[i])\n",
        "\n",
        "# 辺の設定＆エッジの重みのリスト化\n",
        "num_pre = 0\n",
        "edge_weights = []\n",
        "size = 0.1\n",
        "for i in range(len(df_pos.columns)):\n",
        "    for j in range(len(df_pos.columns)):\n",
        "        if not (i==j):\n",
        "            # 辺の追加\n",
        "            G.add_edge(df_pos.columns[i], df_pos.columns[j])\n",
        "            # エッジの重みの追加\n",
        "            if num_pre < len(G.edges):\n",
        "                num_pre = len(G.edges)\n",
        "                weight = 0\n",
        "                if (df_pos.columns[i] in df_tr.columns) and (df_pos.columns[j] in df_tr.index):\n",
        "                    if df_tr[df_pos.columns[i]][df_pos.columns[j]]:\n",
        "                        weight = df_tr[df_pos.columns[i]][df_pos.columns[j]] * size\n",
        "                elif (df_pos.columns[j] in df_tr.columns) and (df_pos.columns[i] in df_tr.index):\n",
        "                    if df_tr[df_pos.columns[j]][df_pos.columns[i]]:\n",
        "                        weigth = df_tr[df_pos.columns[j]][df_pos.columns[i]] * size\n",
        "                edge_weights.append(weight)\n",
        "\n",
        "# 座標の設定\n",
        "pos = {}\n",
        "for i in range(len(df_pos.columns)):\n",
        "    node = df_pos.columns[i]\n",
        "    pos[node] = (df_pos[node][0], df_pos[node][1])\n",
        "\n",
        "# 描画\n",
        "nx.draw(G, pos, with_labels=True, font_size=16, node_size=1000, node_color='k', font_color='w', width=edge_weights)\n",
        "\n",
        "# 表示\n",
        "plt.show()"
      ],
      "metadata": {
        "colab": {
          "base_uri": "https://localhost:8080/",
          "height": 319
        },
        "id": "F-GVf2oqHDX_",
        "outputId": "f50e3dcf-2558-40aa-b5c4-8ac7ad5b558d"
      },
      "execution_count": 20,
      "outputs": [
        {
          "output_type": "display_data",
          "data": {
            "text/plain": [
              "<Figure size 432x288 with 1 Axes>"
            ],
            "image/png": "[encoded data removed]"
          },
          "metadata": {}
        }
      ]
    },
    {
      "cell_type": "markdown",
      "source": [
        "### ノック63：最適輸送ルートが制約条件内に収まっているかどうか確認しよう"
      ],
      "metadata": {
        "id": "jNMac0vIMjMl"
      }
    },
    {
      "cell_type": "code",
      "source": [
        "# データ読み込み\n",
        "df_demand = pd.read_csv('demand.csv')\n",
        "df_supply = pd.read_csv('supply.csv')\n",
        "\n",
        "# 制約条件計算関数\n",
        "# 需要側\n",
        "def condition_demand(df_tr, df_demand):\n",
        "    flag = np.zeros(len(df_demand.columns))\n",
        "    for i in range(len(df_demand.columns)):\n",
        "        temp_sum = sum(df_tr[df_demand.columns[i]])\n",
        "        if (temp_sum >= df_demand.iloc[0][i]):\n",
        "            flag[i] = 1\n",
        "    return flag\n",
        "\n",
        "#　供給側\n",
        "def condition_supply(df_tr, df_supply):\n",
        "    flag = np.zeros(len(df_supply.columns))\n",
        "    for i in range(len(df_supply.columns)):\n",
        "        temp_sum = sum(df_tr.loc[df_supply.columns[i]])\n",
        "        if temp_sum <= df_supply.iloc[0][i]:\n",
        "            flag[i] = 1\n",
        "    return flag\n",
        "\n",
        "print('需要側計算結果：' + str(condition_demand(df_tr_sol, df_demand)))\n",
        "print('供給側計算結果：' + str(condition_supply(df_tr_sol, df_supply)))"
      ],
      "metadata": {
        "colab": {
          "base_uri": "https://localhost:8080/"
        },
        "id": "U1aeKQCoMziU",
        "outputId": "5a8e299c-3106-44eb-b8d0-8b96aedebecd"
      },
      "execution_count": 24,
      "outputs": [
        {
          "output_type": "stream",
          "name": "stdout",
          "text": [
            "需要側計算結果：[1. 1. 1. 1.]\n",
            "供給側計算結果：[1. 1. 1.]\n"
          ]
        }
      ]
    },
    {
      "cell_type": "markdown",
      "source": [
        "### ノック64：生産計画に関するデータを読み込んでみよう"
      ],
      "metadata": {
        "id": "FucgKWXyOBAu"
      }
    },
    {
      "cell_type": "code",
      "source": [
        "df_material = pd.read_csv('product_plan_material.csv', index_col='製品')\n",
        "print(df_material)\n",
        "df_profit = pd.read_csv('product_plan_profit.csv', index_col='製品')\n",
        "print(df_profit)\n",
        "df_stock = pd.read_csv('product_plan_stock.csv', index_col='項目')\n",
        "print(df_stock)\n",
        "df_plan = pd.read_csv('product_plan.csv', index_col='製品')\n",
        "print(df_plan)"
      ],
      "metadata": {
        "colab": {
          "base_uri": "https://localhost:8080/"
        },
        "id": "XHeaS5l-Ouuj",
        "outputId": "01707b8a-069a-4fec-98ee-26ac7bc0dc16"
      },
      "execution_count": 25,
      "outputs": [
        {
          "output_type": "stream",
          "name": "stdout",
          "text": [
            "     原料1  原料2  原料3\n",
            "製品                \n",
            "製品1    1    4    3\n",
            "製品2    2    4    1\n",
            "      利益\n",
            "製品      \n",
            "製品1  5.0\n",
            "製品2  4.0\n",
            "    原料1  原料2  原料3\n",
            "項目               \n",
            "在庫   40   80   50\n",
            "      生産量\n",
            "製品       \n",
            "製品1    16\n",
            "製品2     0\n"
          ]
        }
      ]
    },
    {
      "cell_type": "markdown",
      "source": [
        "### ノック65：利益を計算する関数を作ってみよう"
      ],
      "metadata": {
        "id": "Iqya88QIPSKw"
      }
    },
    {
      "cell_type": "code",
      "source": [
        "def product_plan(df_profit, df_plan):\n",
        "    profit = 0\n",
        "    for i in range(len(df_profit.index)):\n",
        "        for j in range(len(df_plan.columns)):\n",
        "            profit += df_profit.iloc[i][j] * df_plan.iloc[i][j]\n",
        "    return profit\n",
        "\n",
        "print('総利益：' + str(product_plan(df_profit, df_plan)))"
      ],
      "metadata": {
        "colab": {
          "base_uri": "https://localhost:8080/"
        },
        "id": "6SQ8vG3jPXoF",
        "outputId": "eeeeeaff-244f-4f89-c9b0-57a0cdb8dd57"
      },
      "execution_count": 26,
      "outputs": [
        {
          "output_type": "stream",
          "name": "stdout",
          "text": [
            "総利益：80.0\n"
          ]
        }
      ]
    },
    {
      "cell_type": "markdown",
      "source": [
        "### ノック66：生産最適化問題を解いてみよう"
      ],
      "metadata": {
        "id": "14GeVv6GP10u"
      }
    },
    {
      "cell_type": "code",
      "source": [
        "from ortoolpy import model_max, addvars, addvals\n",
        "df = df_material.copy()\n",
        "inv = df_stock\n",
        "\n",
        "m = model_max()\n",
        "v1 = {(i):LpVariable('v%d'%(i), lowBound=0) for i in range(len(df_profit))}\n",
        "m += lpSum(df_profit.iloc[i] * v1[i] for i in range(len(df_profit)))\n",
        "for i in range(len(df_material.columns)):\n",
        "    m += lpSum(df_material.iloc[j, i] * v1[j] for j in range(len(df_profit))) <= df_stock.iloc[:, i]\n",
        "m.solve()\n",
        "\n",
        "df_plan_sol = df_plan\n",
        "for k, x in v1.items():\n",
        "    df_plan_sol.iloc[k] = value(x)\n",
        "print(df_plan_sol)\n",
        "print('総利益：' + str(value(m.objective)))"
      ],
      "metadata": {
        "colab": {
          "base_uri": "https://localhost:8080/"
        },
        "id": "W8HF5WuJP9wi",
        "outputId": "af60668c-a176-4554-f746-b7b7700e8143"
      },
      "execution_count": 28,
      "outputs": [
        {
          "output_type": "stream",
          "name": "stdout",
          "text": [
            "      生産量\n",
            "製品       \n",
            "製品1    15\n",
            "製品2     5\n",
            "総利益：95.0\n"
          ]
        }
      ]
    },
    {
      "cell_type": "markdown",
      "source": [
        "### ノック67：最適生産計画が制約条件内に収まっているかどうかを確認しよう"
      ],
      "metadata": {
        "id": "-ibn7PikRSMw"
      }
    },
    {
      "cell_type": "code",
      "source": [
        "def condition_stock(df_plan, df_material, df_stock):\n",
        "    flag = np.zeros(len(df_material.columns))\n",
        "    for i in range(len(df_material.columns)):\n",
        "        temp_sum = 0\n",
        "        for j in range(len(df_material.index)):\n",
        "            temp_sum = temp_sum + df_material.iloc[j][i] * float(df_plan.iloc[j])\n",
        "        if (temp_sum <= float(df_stock.iloc[0][i])):\n",
        "            flag[i] = 1\n",
        "        print(df_material.columns[i] + '使用量：' + str(temp_sum) + ', 在庫：' + str(float(df_stock.iloc[0][i])))\n",
        "    return flag\n",
        "print('制約条件計算結果：' + str(condition_stock(df_plan_sol, df_material, df_stock)))"
      ],
      "metadata": {
        "colab": {
          "base_uri": "https://localhost:8080/"
        },
        "id": "65csYO7nRdyx",
        "outputId": "58ae850f-15b3-4569-c727-dfacb370ec18"
      },
      "execution_count": 32,
      "outputs": [
        {
          "output_type": "stream",
          "name": "stdout",
          "text": [
            "原料1使用量：25.0, 在庫：40.0\n",
            "原料2使用量：80.0, 在庫：80.0\n",
            "原料3使用量：50.0, 在庫：50.0\n",
            "制約条件計算結果：[1. 1. 1.]\n"
          ]
        }
      ]
    },
    {
      "cell_type": "markdown",
      "source": [
        "### ノック68：ロジスティックネットワーク設計問題を解いてみよう"
      ],
      "metadata": {
        "id": "LCZvdFyQSSLE"
      }
    },
    {
      "cell_type": "code",
      "source": [
        "製品 = list('AB')\n",
        "需要地 = list('PQ')\n",
        "工場 = list('XY')\n",
        "レーン = (2, 2)"
      ],
      "metadata": {
        "id": "toOwFnzKStzJ"
      },
      "execution_count": 33,
      "outputs": []
    },
    {
      "cell_type": "code",
      "source": [
        "# 輸送批表\n",
        "tbdi = pd.DataFrame(((j, k) for j in 需要地 for k in 工場), columns=['需要地', '工場'])\n",
        "tbdi['輸送費'] = [1, 2, 3, 1]\n",
        "print(tbdi)\n",
        "\n",
        "# 需要表\n",
        "tbde = pd.DataFrame(((j, i) for j in 需要地 for i in 製品), columns=['需要地', '製品'])\n",
        "tbde['需要'] = [10, 10, 20, 20]\n",
        "print(tbde)\n",
        "\n",
        "# 生産表\n",
        "tbfa = pd.DataFrame(((k, l, i, 0, np.inf) for k,nl in zip(工場, レーン) for l in range(nl) for i in 製品), columns=['工場', 'レーン', '製品', '下限', '上限'])\n",
        "tbfa['生産費'] = [1, np.nan, np.nan, 1, 3, np.nan, 5, 3]\n",
        "tbfa.dropna(inplace=True)\n",
        "tbfa.loc[4, '上限'] = 10\n",
        "print(tbfa)\n",
        "\n",
        "from ortoolpy import logistics_network\n",
        "_, tbdi2, _ = logistics_network(tbde, tbdi, tbfa)\n",
        "print(tbfa)\n",
        "print(tbdi2)"
      ],
      "metadata": {
        "colab": {
          "base_uri": "https://localhost:8080/"
        },
        "id": "4pLGcjRsS9OT",
        "outputId": "6069e89f-b1cf-43b8-ff42-83dc8a0d3344"
      },
      "execution_count": 36,
      "outputs": [
        {
          "output_type": "stream",
          "name": "stdout",
          "text": [
            "  需要地 工場  輸送費\n",
            "0   P  X    1\n",
            "1   P  Y    2\n",
            "2   Q  X    3\n",
            "3   Q  Y    1\n",
            "  需要地 製品  需要\n",
            "0   P  A  10\n",
            "1   P  B  10\n",
            "2   Q  A  20\n",
            "3   Q  B  20\n",
            "  工場  レーン 製品  下限    上限  生産費\n",
            "0  X    0  A   0   inf  1.0\n",
            "3  X    1  B   0   inf  1.0\n",
            "4  Y    0  A   0  10.0  3.0\n",
            "6  Y    1  A   0   inf  5.0\n",
            "7  Y    1  B   0   inf  3.0\n",
            "  工場  レーン 製品  下限    上限  生産費     VarY  ValY\n",
            "0  X    0  A   0   inf  1.0  v000022  20.0\n",
            "3  X    1  B   0   inf  1.0  v000023  10.0\n",
            "4  Y    0  A   0  10.0  3.0  v000024  10.0\n",
            "6  Y    1  A   0   inf  5.0  v000025   0.0\n",
            "7  Y    1  B   0   inf  3.0  v000026  20.0\n",
            "  需要地 工場  輸送費 製品     VarX  ValX\n",
            "0   P  X    1  A  v000014  10.0\n",
            "1   P  X    1  B  v000015  10.0\n",
            "2   Q  X    3  A  v000016  10.0\n",
            "3   Q  X    3  B  v000017   0.0\n",
            "4   P  Y    2  A  v000018   0.0\n",
            "5   P  Y    2  B  v000019   0.0\n",
            "6   Q  Y    1  A  v000020  10.0\n",
            "7   Q  Y    1  B  v000021  20.0\n"
          ]
        },
        {
          "output_type": "stream",
          "name": "stderr",
          "text": [
            "/usr/local/lib/python3.7/dist-packages/ortoolpy/etc.py:1217: FutureWarning: In a future version of pandas all arguments of concat except for the argument 'objs' will be keyword-only\n",
            "  [tbdi2.groupby(facprd).VarX.sum(), tbfa.groupby(facprd).VarY.sum()], 1\n"
          ]
        }
      ]
    },
    {
      "cell_type": "markdown",
      "source": [
        "### ノック69：最適ネットワークにおける輸送コストとその内訳を計算しよう"
      ],
      "metadata": {
        "id": "ASQ8GftVUhgS"
      }
    },
    {
      "cell_type": "code",
      "source": [
        "print(tbdi2)\n",
        "trans_cost = 0\n",
        "for i in range(len(tbdi2.index)):\n",
        "    trans_cost += tbdi2['輸送費'].iloc[i] * tbdi2['ValX'].iloc[i]\n",
        "print('総輸送コスト：' + str(trans_cost))"
      ],
      "metadata": {
        "colab": {
          "base_uri": "https://localhost:8080/"
        },
        "id": "NeMABNBJU5TU",
        "outputId": "962b1eea-1c12-45e3-cc33-b5453ea0c5fe"
      },
      "execution_count": 38,
      "outputs": [
        {
          "output_type": "stream",
          "name": "stdout",
          "text": [
            "  需要地 工場  輸送費 製品     VarX  ValX\n",
            "0   P  X    1  A  v000014  10.0\n",
            "1   P  X    1  B  v000015  10.0\n",
            "2   Q  X    3  A  v000016  10.0\n",
            "3   Q  X    3  B  v000017   0.0\n",
            "4   P  Y    2  A  v000018   0.0\n",
            "5   P  Y    2  B  v000019   0.0\n",
            "6   Q  Y    1  A  v000020  10.0\n",
            "7   Q  Y    1  B  v000021  20.0\n",
            "総輸送コスト：80.0\n"
          ]
        }
      ]
    },
    {
      "cell_type": "markdown",
      "source": [
        "### ノック70：最適ネットワークにおける生産コストとその内訳を計算しよう"
      ],
      "metadata": {
        "id": "jaP5XBvFVNxy"
      }
    },
    {
      "cell_type": "code",
      "source": [
        "print(tbfa)\n",
        "product_cost = 0\n",
        "for i in range(len(tbfa.index)):\n",
        "    product_cost += tbfa['生産費'].iloc[i] * tbfa['ValY'].iloc[i]\n",
        "print('総生産コスト:' + str(product_cost))"
      ],
      "metadata": {
        "colab": {
          "base_uri": "https://localhost:8080/"
        },
        "id": "mM0vwGRMVZIY",
        "outputId": "7b9632a1-767e-48cd-a0a0-24d61588838f"
      },
      "execution_count": 39,
      "outputs": [
        {
          "output_type": "stream",
          "name": "stdout",
          "text": [
            "  工場  レーン 製品  下限    上限  生産費     VarY  ValY\n",
            "0  X    0  A   0   inf  1.0  v000022  20.0\n",
            "3  X    1  B   0   inf  1.0  v000023  10.0\n",
            "4  Y    0  A   0  10.0  3.0  v000024  10.0\n",
            "6  Y    1  A   0   inf  5.0  v000025   0.0\n",
            "7  Y    1  B   0   inf  3.0  v000026  20.0\n",
            "総生産コスト:120.0\n"
          ]
        }
      ]
    },
    {
      "cell_type": "code",
      "source": [
        ""
      ],
      "metadata": {
        "id": "P1pD9NgmVvbD"
      },
      "execution_count": null,
      "outputs": []
    }
  ]
}